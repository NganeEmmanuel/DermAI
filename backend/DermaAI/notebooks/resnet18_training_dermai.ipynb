{
 "cells": [
  {
   "cell_type": "code",
   "id": "initial_id",
   "metadata": {
    "collapsed": true,
    "ExecuteTime": {
     "end_time": "2025-08-05T18:08:03.219419Z",
     "start_time": "2025-08-05T18:08:03.215352Z"
    }
   },
   "source": [
    "# resnet18_training.py\n",
    "\n",
    "import os\n",
    "import torch\n",
    "import torch.nn as nn\n",
    "import torch.optim as optim\n",
    "from torchvision import models, datasets, transforms\n",
    "from torchvision.models import ResNet18_Weights\n",
    "from torch.utils.data import DataLoader\n",
    "from torch.utils.tensorboard import SummaryWriter\n",
    "from torch.optim.lr_scheduler import ReduceLROnPlateau\n",
    "from tqdm import tqdm\n",
    "import matplotlib.pyplot as plt\n",
    "from sklearn.utils.class_weight import compute_class_weight\n",
    "import numpy as np\n"
   ],
   "outputs": [],
   "execution_count": 13
  },
  {
   "metadata": {
    "ExecuteTime": {
     "end_time": "2025-08-05T18:08:03.234080Z",
     "start_time": "2025-08-05T18:08:03.230430Z"
    }
   },
   "cell_type": "code",
   "source": "device = torch.device(\"cuda\" if torch.cuda.is_available() else \"cpu\")",
   "id": "ca80677d18700996",
   "outputs": [],
   "execution_count": 14
  },
  {
   "metadata": {
    "ExecuteTime": {
     "end_time": "2025-08-05T18:08:03.239846Z",
     "start_time": "2025-08-05T18:08:03.235088Z"
    }
   },
   "cell_type": "code",
   "source": [
    "# Paths\n",
    "DATASET_DIR = \"../data/processed\"\n",
    "train_dir = os.path.join(DATASET_DIR, \"train\")\n",
    "val_dir = os.path.join(DATASET_DIR, \"val\")\n",
    "test_dir = os.path.join(DATASET_DIR, \"test\")"
   ],
   "id": "9c87c5de36b69f3d",
   "outputs": [],
   "execution_count": 15
  },
  {
   "metadata": {
    "ExecuteTime": {
     "end_time": "2025-08-05T18:08:03.245413Z",
     "start_time": "2025-08-05T18:08:03.240853Z"
    }
   },
   "cell_type": "code",
   "source": [
    "# === Transforms ===\n",
    "transform = transforms.Compose([\n",
    "    transforms.RandomHorizontalFlip(),\n",
    "    transforms.RandomRotation(10),\n",
    "    transforms.ColorJitter(brightness=0.2, contrast=0.2, saturation=0.2),\n",
    "    transforms.Resize((224, 224)),\n",
    "    transforms.ToTensor(),\n",
    "    transforms.Normalize(mean=[0.485, 0.456, 0.406],\n",
    "                         std=[0.229, 0.224, 0.225])\n",
    "])"
   ],
   "id": "d7087b883f6aeb14",
   "outputs": [],
   "execution_count": 16
  },
  {
   "metadata": {
    "ExecuteTime": {
     "end_time": "2025-08-05T18:08:03.405954Z",
     "start_time": "2025-08-05T18:08:03.271419Z"
    }
   },
   "cell_type": "code",
   "source": [
    "# Load datasets\n",
    "datasets_dict = {\n",
    "    'train': datasets.ImageFolder(train_dir, transform=transform),\n",
    "    'val': datasets.ImageFolder(val_dir, transform=transform),\n",
    "    'test': datasets.ImageFolder(test_dir, transform=transform)\n",
    "}"
   ],
   "id": "ed2caf28a048",
   "outputs": [],
   "execution_count": 17
  },
  {
   "metadata": {
    "ExecuteTime": {
     "end_time": "2025-08-05T18:08:03.411368Z",
     "start_time": "2025-08-05T18:08:03.407003Z"
    }
   },
   "cell_type": "code",
   "source": [
    "# DataLoaders\n",
    "dataloaders = {\n",
    "    x: DataLoader(datasets_dict[x], batch_size=32, shuffle=(x == 'train'), num_workers=4, prefetch_factor=4)\n",
    "    for x in ['train', 'val', 'test']\n",
    "}\n",
    "\n",
    "class_names = datasets_dict['train'].classes\n",
    "num_classes = len(class_names)"
   ],
   "id": "8dde82483d965589",
   "outputs": [],
   "execution_count": 18
  },
  {
   "metadata": {
    "ExecuteTime": {
     "end_time": "2025-08-05T18:08:48.873921Z",
     "start_time": "2025-08-05T18:08:03.411368Z"
    }
   },
   "cell_type": "code",
   "source": [
    "# === NEW: Compute class weights ===\n",
    "train_labels = [label for _, label in datasets_dict['train']]\n",
    "class_weights = compute_class_weight(class_weight='balanced', classes=np.arange(num_classes), y=train_labels)\n",
    "class_weights_tensor = torch.tensor(class_weights, dtype=torch.float).to(device)"
   ],
   "id": "c06d2d664488bf19",
   "outputs": [],
   "execution_count": 19
  },
  {
   "metadata": {
    "ExecuteTime": {
     "end_time": "2025-08-05T18:08:49.043468Z",
     "start_time": "2025-08-05T18:08:48.874925Z"
    }
   },
   "cell_type": "code",
   "source": [
    "# === Load and Modify Pretrained Model ===\n",
    "model = models.resnet18(weights=ResNet18_Weights.DEFAULT)\n",
    "\n",
    "# ✅ Unfreeze layer3 + layer4 + fc\n",
    "for name, param in model.named_parameters():\n",
    "    if \"layer4\" in name or \"fc\" in name:\n",
    "        param.requires_grad = True\n",
    "    else:\n",
    "        param.requires_grad = False\n",
    "\n",
    "model.fc = nn.Linear(model.fc.in_features, num_classes)\n",
    "model = model.to(device)"
   ],
   "id": "a1d8609b4410488d",
   "outputs": [],
   "execution_count": 20
  },
  {
   "metadata": {
    "ExecuteTime": {
     "end_time": "2025-08-05T18:08:49.048801Z",
     "start_time": "2025-08-05T18:08:49.044473Z"
    }
   },
   "cell_type": "code",
   "source": [
    "# ✅ Weighted Loss + Label Smoothing\n",
    "criterion = nn.CrossEntropyLoss(weight=class_weights_tensor, label_smoothing=0.0)\n",
    "\n",
    "# ✅ Add weight decay (L2 regularization)\n",
    "trainable_params = filter(lambda p: p.requires_grad, model.parameters())\n",
    "optimizer = optim.Adam(trainable_params, lr=0.001, weight_decay=1e-4)\n",
    "scheduler = ReduceLROnPlateau(optimizer, mode='min', patience=2, factor=0.5)\n"
   ],
   "id": "551c394ad16e32bb",
   "outputs": [],
   "execution_count": 21
  },
  {
   "metadata": {
    "ExecuteTime": {
     "end_time": "2025-08-05T18:08:49.055612Z",
     "start_time": "2025-08-05T18:08:49.049808Z"
    }
   },
   "cell_type": "code",
   "source": [
    "# TensorBoard writer\n",
    "writer = SummaryWriter(log_dir=\"runs/resnet18_experiment_v4\")"
   ],
   "id": "405f0b341376d89b",
   "outputs": [],
   "execution_count": 22
  },
  {
   "metadata": {
    "ExecuteTime": {
     "end_time": "2025-08-05T18:08:49.065383Z",
     "start_time": "2025-08-05T18:08:49.056621Z"
    }
   },
   "cell_type": "code",
   "source": [
    "# === Training Function with Early Stopping ===\n",
    "def train_model(model, dataloaders, criterion, optimizer, num_epochs=20, patience=3):\n",
    "    best_val_loss = float('inf')\n",
    "    train_loss_hist, val_loss_hist = [], []\n",
    "    train_acc_hist, val_acc_hist = [], []\n",
    "    patience_counter = 0\n",
    "\n",
    "    for epoch in range(num_epochs):\n",
    "        print(f\"\\nEpoch {epoch+1}/{num_epochs}\")\n",
    "        print(\"-\" * 20)\n",
    "\n",
    "        for phase in ['train', 'val']:\n",
    "            model.train() if phase == 'train' else model.eval()\n",
    "            running_loss, running_corrects = 0.0, 0\n",
    "\n",
    "            with tqdm(dataloaders[phase], unit=\"batch\") as tepoch:\n",
    "                for inputs, labels in tepoch:\n",
    "                    inputs, labels = inputs.to(device), labels.to(device)\n",
    "                    optimizer.zero_grad()\n",
    "\n",
    "                    with torch.set_grad_enabled(phase == 'train'):\n",
    "                        outputs = model(inputs)\n",
    "                        loss = criterion(outputs, labels)\n",
    "                        _, preds = torch.max(outputs, 1)\n",
    "\n",
    "                        if phase == 'train':\n",
    "                            loss.backward()\n",
    "                            optimizer.step()\n",
    "\n",
    "                    running_loss += loss.item() * inputs.size(0)\n",
    "                    running_corrects += torch.sum(preds == labels.data)\n",
    "\n",
    "            epoch_loss = running_loss / len(datasets_dict[phase])\n",
    "            epoch_acc = running_corrects.double() / len(datasets_dict[phase])\n",
    "\n",
    "            print(f\"{phase.capitalize()} Loss: {epoch_loss:.4f} Acc: {epoch_acc:.4f}\")\n",
    "            writer.add_scalar(f\"Loss/{phase}\", epoch_loss, epoch)\n",
    "            writer.add_scalar(f\"Accuracy/{phase}\", epoch_acc, epoch)\n",
    "\n",
    "            if phase == 'train':\n",
    "                train_loss_hist.append(epoch_loss)\n",
    "                train_acc_hist.append(epoch_acc.item())\n",
    "            else:\n",
    "                val_loss_hist.append(epoch_loss)\n",
    "                val_acc_hist.append(epoch_acc.item())\n",
    "                scheduler.step(epoch_loss)\n",
    "\n",
    "                if epoch_loss < best_val_loss:\n",
    "                    best_val_loss = epoch_loss\n",
    "                    torch.save(model.state_dict(), \"../model/dermai_model_v3.pth\")\n",
    "                    patience_counter = 0  # Reset patience if improved\n",
    "                    print(\"✅ Best model updated.\")\n",
    "                else:\n",
    "                    patience_counter += 1\n",
    "                    print(f\"⚠️ Patience: {patience_counter}/{patience}\")\n",
    "                    if patience_counter >= patience:\n",
    "                        print(\"⏹️ Early stopping triggered.\")\n",
    "                        return train_loss_hist, val_loss_hist, train_acc_hist, val_acc_hist\n",
    "\n",
    "    print(\"\\n✅ Training complete. Best validation loss: {:.4f}\".format(best_val_loss))\n",
    "    return train_loss_hist, val_loss_hist, train_acc_hist, val_acc_hist\n"
   ],
   "id": "e3cd59f5ca40ed62",
   "outputs": [],
   "execution_count": 23
  },
  {
   "metadata": {
    "ExecuteTime": {
     "end_time": "2025-08-05T21:32:06.173726Z",
     "start_time": "2025-08-05T18:08:49.066390Z"
    }
   },
   "cell_type": "code",
   "source": [
    "# === Train ===\n",
    "train_loss_hist, val_loss_hist, train_acc_hist, val_acc_hist = train_model(\n",
    "    model, dataloaders, criterion, optimizer, num_epochs=20, patience=5\n",
    ")"
   ],
   "id": "f6315d87c34f58f0",
   "outputs": [
    {
     "name": "stdout",
     "output_type": "stream",
     "text": [
      "\n",
      "Epoch 1/20\n",
      "--------------------\n"
     ]
    },
    {
     "name": "stderr",
     "output_type": "stream",
     "text": [
      "100%|██████████| 515/515 [08:44<00:00,  1.02s/batch]\n"
     ]
    },
    {
     "name": "stdout",
     "output_type": "stream",
     "text": [
      "Train Loss: 1.7928 Acc: 0.4263\n"
     ]
    },
    {
     "name": "stderr",
     "output_type": "stream",
     "text": [
      "100%|██████████| 110/110 [01:27<00:00,  1.26batch/s]\n"
     ]
    },
    {
     "name": "stdout",
     "output_type": "stream",
     "text": [
      "Val Loss: 1.4636 Acc: 0.5157\n",
      "✅ Best model updated.\n",
      "\n",
      "Epoch 2/20\n",
      "--------------------\n"
     ]
    },
    {
     "name": "stderr",
     "output_type": "stream",
     "text": [
      "100%|██████████| 515/515 [08:35<00:00,  1.00s/batch]\n"
     ]
    },
    {
     "name": "stdout",
     "output_type": "stream",
     "text": [
      "Train Loss: 1.2067 Acc: 0.5514\n"
     ]
    },
    {
     "name": "stderr",
     "output_type": "stream",
     "text": [
      "100%|██████████| 110/110 [01:27<00:00,  1.26batch/s]\n"
     ]
    },
    {
     "name": "stdout",
     "output_type": "stream",
     "text": [
      "Val Loss: 1.2086 Acc: 0.5921\n",
      "✅ Best model updated.\n",
      "\n",
      "Epoch 3/20\n",
      "--------------------\n"
     ]
    },
    {
     "name": "stderr",
     "output_type": "stream",
     "text": [
      "100%|██████████| 515/515 [08:41<00:00,  1.01s/batch]\n"
     ]
    },
    {
     "name": "stdout",
     "output_type": "stream",
     "text": [
      "Train Loss: 0.9826 Acc: 0.6047\n"
     ]
    },
    {
     "name": "stderr",
     "output_type": "stream",
     "text": [
      "100%|██████████| 110/110 [01:26<00:00,  1.27batch/s]\n"
     ]
    },
    {
     "name": "stdout",
     "output_type": "stream",
     "text": [
      "Val Loss: 1.2212 Acc: 0.5884\n",
      "⚠️ Patience: 1/5\n",
      "\n",
      "Epoch 4/20\n",
      "--------------------\n"
     ]
    },
    {
     "name": "stderr",
     "output_type": "stream",
     "text": [
      "100%|██████████| 515/515 [08:40<00:00,  1.01s/batch]\n"
     ]
    },
    {
     "name": "stdout",
     "output_type": "stream",
     "text": [
      "Train Loss: 0.8797 Acc: 0.6333\n"
     ]
    },
    {
     "name": "stderr",
     "output_type": "stream",
     "text": [
      "100%|██████████| 110/110 [01:28<00:00,  1.24batch/s]\n"
     ]
    },
    {
     "name": "stdout",
     "output_type": "stream",
     "text": [
      "Val Loss: 1.1394 Acc: 0.6172\n",
      "✅ Best model updated.\n",
      "\n",
      "Epoch 5/20\n",
      "--------------------\n"
     ]
    },
    {
     "name": "stderr",
     "output_type": "stream",
     "text": [
      "100%|██████████| 515/515 [08:32<00:00,  1.00batch/s]\n"
     ]
    },
    {
     "name": "stdout",
     "output_type": "stream",
     "text": [
      "Train Loss: 0.7919 Acc: 0.6632\n"
     ]
    },
    {
     "name": "stderr",
     "output_type": "stream",
     "text": [
      "100%|██████████| 110/110 [01:28<00:00,  1.24batch/s]\n"
     ]
    },
    {
     "name": "stdout",
     "output_type": "stream",
     "text": [
      "Val Loss: 1.1741 Acc: 0.6375\n",
      "⚠️ Patience: 1/5\n",
      "\n",
      "Epoch 6/20\n",
      "--------------------\n"
     ]
    },
    {
     "name": "stderr",
     "output_type": "stream",
     "text": [
      "100%|██████████| 515/515 [08:44<00:00,  1.02s/batch]\n"
     ]
    },
    {
     "name": "stdout",
     "output_type": "stream",
     "text": [
      "Train Loss: 0.7483 Acc: 0.6753\n"
     ]
    },
    {
     "name": "stderr",
     "output_type": "stream",
     "text": [
      "100%|██████████| 110/110 [01:27<00:00,  1.26batch/s]\n"
     ]
    },
    {
     "name": "stdout",
     "output_type": "stream",
     "text": [
      "Val Loss: 1.1295 Acc: 0.6315\n",
      "✅ Best model updated.\n",
      "\n",
      "Epoch 7/20\n",
      "--------------------\n"
     ]
    },
    {
     "name": "stderr",
     "output_type": "stream",
     "text": [
      "100%|██████████| 515/515 [08:36<00:00,  1.00s/batch]\n"
     ]
    },
    {
     "name": "stdout",
     "output_type": "stream",
     "text": [
      "Train Loss: 0.6565 Acc: 0.7040\n"
     ]
    },
    {
     "name": "stderr",
     "output_type": "stream",
     "text": [
      "100%|██████████| 110/110 [01:26<00:00,  1.27batch/s]\n"
     ]
    },
    {
     "name": "stdout",
     "output_type": "stream",
     "text": [
      "Val Loss: 1.1251 Acc: 0.6389\n",
      "✅ Best model updated.\n",
      "\n",
      "Epoch 8/20\n",
      "--------------------\n"
     ]
    },
    {
     "name": "stderr",
     "output_type": "stream",
     "text": [
      "100%|██████████| 515/515 [08:43<00:00,  1.02s/batch]\n"
     ]
    },
    {
     "name": "stdout",
     "output_type": "stream",
     "text": [
      "Train Loss: 0.6725 Acc: 0.7044\n"
     ]
    },
    {
     "name": "stderr",
     "output_type": "stream",
     "text": [
      "100%|██████████| 110/110 [01:27<00:00,  1.26batch/s]\n"
     ]
    },
    {
     "name": "stdout",
     "output_type": "stream",
     "text": [
      "Val Loss: 1.0337 Acc: 0.6512\n",
      "✅ Best model updated.\n",
      "\n",
      "Epoch 9/20\n",
      "--------------------\n"
     ]
    },
    {
     "name": "stderr",
     "output_type": "stream",
     "text": [
      "100%|██████████| 515/515 [08:39<00:00,  1.01s/batch]\n"
     ]
    },
    {
     "name": "stdout",
     "output_type": "stream",
     "text": [
      "Train Loss: 0.5718 Acc: 0.7326\n"
     ]
    },
    {
     "name": "stderr",
     "output_type": "stream",
     "text": [
      "100%|██████████| 110/110 [01:27<00:00,  1.26batch/s]\n"
     ]
    },
    {
     "name": "stdout",
     "output_type": "stream",
     "text": [
      "Val Loss: 1.1680 Acc: 0.6318\n",
      "⚠️ Patience: 1/5\n",
      "\n",
      "Epoch 10/20\n",
      "--------------------\n"
     ]
    },
    {
     "name": "stderr",
     "output_type": "stream",
     "text": [
      "100%|██████████| 515/515 [08:42<00:00,  1.01s/batch]\n"
     ]
    },
    {
     "name": "stdout",
     "output_type": "stream",
     "text": [
      "Train Loss: 0.5557 Acc: 0.7392\n"
     ]
    },
    {
     "name": "stderr",
     "output_type": "stream",
     "text": [
      "100%|██████████| 110/110 [01:27<00:00,  1.26batch/s]\n"
     ]
    },
    {
     "name": "stdout",
     "output_type": "stream",
     "text": [
      "Val Loss: 0.9864 Acc: 0.6834\n",
      "✅ Best model updated.\n",
      "\n",
      "Epoch 11/20\n",
      "--------------------\n"
     ]
    },
    {
     "name": "stderr",
     "output_type": "stream",
     "text": [
      "100%|██████████| 515/515 [08:40<00:00,  1.01s/batch]\n"
     ]
    },
    {
     "name": "stdout",
     "output_type": "stream",
     "text": [
      "Train Loss: 0.5346 Acc: 0.7492\n"
     ]
    },
    {
     "name": "stderr",
     "output_type": "stream",
     "text": [
      "100%|██████████| 110/110 [01:27<00:00,  1.25batch/s]\n"
     ]
    },
    {
     "name": "stdout",
     "output_type": "stream",
     "text": [
      "Val Loss: 0.9883 Acc: 0.6811\n",
      "⚠️ Patience: 1/5\n",
      "\n",
      "Epoch 12/20\n",
      "--------------------\n"
     ]
    },
    {
     "name": "stderr",
     "output_type": "stream",
     "text": [
      "100%|██████████| 515/515 [08:35<00:00,  1.00s/batch]\n"
     ]
    },
    {
     "name": "stdout",
     "output_type": "stream",
     "text": [
      "Train Loss: 0.5038 Acc: 0.7615\n"
     ]
    },
    {
     "name": "stderr",
     "output_type": "stream",
     "text": [
      "100%|██████████| 110/110 [01:26<00:00,  1.27batch/s]\n"
     ]
    },
    {
     "name": "stdout",
     "output_type": "stream",
     "text": [
      "Val Loss: 0.9514 Acc: 0.6840\n",
      "✅ Best model updated.\n",
      "\n",
      "Epoch 13/20\n",
      "--------------------\n"
     ]
    },
    {
     "name": "stderr",
     "output_type": "stream",
     "text": [
      "100%|██████████| 515/515 [08:42<00:00,  1.01s/batch]\n"
     ]
    },
    {
     "name": "stdout",
     "output_type": "stream",
     "text": [
      "Train Loss: 0.4627 Acc: 0.7798\n"
     ]
    },
    {
     "name": "stderr",
     "output_type": "stream",
     "text": [
      "100%|██████████| 110/110 [01:28<00:00,  1.25batch/s]\n"
     ]
    },
    {
     "name": "stdout",
     "output_type": "stream",
     "text": [
      "Val Loss: 1.0130 Acc: 0.6851\n",
      "⚠️ Patience: 1/5\n",
      "\n",
      "Epoch 14/20\n",
      "--------------------\n"
     ]
    },
    {
     "name": "stderr",
     "output_type": "stream",
     "text": [
      "100%|██████████| 515/515 [08:29<00:00,  1.01batch/s]\n"
     ]
    },
    {
     "name": "stdout",
     "output_type": "stream",
     "text": [
      "Train Loss: 0.4540 Acc: 0.7803\n"
     ]
    },
    {
     "name": "stderr",
     "output_type": "stream",
     "text": [
      "100%|██████████| 110/110 [01:26<00:00,  1.28batch/s]\n"
     ]
    },
    {
     "name": "stdout",
     "output_type": "stream",
     "text": [
      "Val Loss: 1.0818 Acc: 0.6654\n",
      "⚠️ Patience: 2/5\n",
      "\n",
      "Epoch 15/20\n",
      "--------------------\n"
     ]
    },
    {
     "name": "stderr",
     "output_type": "stream",
     "text": [
      "100%|██████████| 515/515 [08:38<00:00,  1.01s/batch]\n"
     ]
    },
    {
     "name": "stdout",
     "output_type": "stream",
     "text": [
      "Train Loss: 0.5002 Acc: 0.7704\n"
     ]
    },
    {
     "name": "stderr",
     "output_type": "stream",
     "text": [
      "100%|██████████| 110/110 [01:27<00:00,  1.26batch/s]\n"
     ]
    },
    {
     "name": "stdout",
     "output_type": "stream",
     "text": [
      "Val Loss: 0.9855 Acc: 0.6811\n",
      "⚠️ Patience: 3/5\n",
      "\n",
      "Epoch 16/20\n",
      "--------------------\n"
     ]
    },
    {
     "name": "stderr",
     "output_type": "stream",
     "text": [
      "100%|██████████| 515/515 [08:36<00:00,  1.00s/batch]\n"
     ]
    },
    {
     "name": "stdout",
     "output_type": "stream",
     "text": [
      "Train Loss: 0.2977 Acc: 0.8383\n"
     ]
    },
    {
     "name": "stderr",
     "output_type": "stream",
     "text": [
      "100%|██████████| 110/110 [01:26<00:00,  1.27batch/s]\n"
     ]
    },
    {
     "name": "stdout",
     "output_type": "stream",
     "text": [
      "Val Loss: 0.8539 Acc: 0.7382\n",
      "✅ Best model updated.\n",
      "\n",
      "Epoch 17/20\n",
      "--------------------\n"
     ]
    },
    {
     "name": "stderr",
     "output_type": "stream",
     "text": [
      "100%|██████████| 515/515 [08:35<00:00,  1.00s/batch]\n"
     ]
    },
    {
     "name": "stdout",
     "output_type": "stream",
     "text": [
      "Train Loss: 0.2487 Acc: 0.8625\n"
     ]
    },
    {
     "name": "stderr",
     "output_type": "stream",
     "text": [
      "100%|██████████| 110/110 [01:27<00:00,  1.26batch/s]\n"
     ]
    },
    {
     "name": "stdout",
     "output_type": "stream",
     "text": [
      "Val Loss: 0.8893 Acc: 0.7410\n",
      "⚠️ Patience: 1/5\n",
      "\n",
      "Epoch 18/20\n",
      "--------------------\n"
     ]
    },
    {
     "name": "stderr",
     "output_type": "stream",
     "text": [
      "100%|██████████| 515/515 [08:49<00:00,  1.03s/batch]\n"
     ]
    },
    {
     "name": "stdout",
     "output_type": "stream",
     "text": [
      "Train Loss: 0.2364 Acc: 0.8690\n"
     ]
    },
    {
     "name": "stderr",
     "output_type": "stream",
     "text": [
      "100%|██████████| 110/110 [01:26<00:00,  1.26batch/s]\n"
     ]
    },
    {
     "name": "stdout",
     "output_type": "stream",
     "text": [
      "Val Loss: 0.9282 Acc: 0.7307\n",
      "⚠️ Patience: 2/5\n",
      "\n",
      "Epoch 19/20\n",
      "--------------------\n"
     ]
    },
    {
     "name": "stderr",
     "output_type": "stream",
     "text": [
      "100%|██████████| 515/515 [09:06<00:00,  1.06s/batch]\n"
     ]
    },
    {
     "name": "stdout",
     "output_type": "stream",
     "text": [
      "Train Loss: 0.2299 Acc: 0.8743\n"
     ]
    },
    {
     "name": "stderr",
     "output_type": "stream",
     "text": [
      "100%|██████████| 110/110 [01:27<00:00,  1.25batch/s]\n"
     ]
    },
    {
     "name": "stdout",
     "output_type": "stream",
     "text": [
      "Val Loss: 0.9006 Acc: 0.7410\n",
      "⚠️ Patience: 3/5\n",
      "\n",
      "Epoch 20/20\n",
      "--------------------\n"
     ]
    },
    {
     "name": "stderr",
     "output_type": "stream",
     "text": [
      "100%|██████████| 515/515 [09:14<00:00,  1.08s/batch]\n"
     ]
    },
    {
     "name": "stdout",
     "output_type": "stream",
     "text": [
      "Train Loss: 0.1617 Acc: 0.9082\n"
     ]
    },
    {
     "name": "stderr",
     "output_type": "stream",
     "text": [
      "100%|██████████| 110/110 [01:28<00:00,  1.24batch/s]"
     ]
    },
    {
     "name": "stdout",
     "output_type": "stream",
     "text": [
      "Val Loss: 0.8484 Acc: 0.7601\n",
      "✅ Best model updated.\n",
      "\n",
      "✅ Training complete. Best validation loss: 0.8484\n"
     ]
    },
    {
     "name": "stderr",
     "output_type": "stream",
     "text": [
      "\n"
     ]
    }
   ],
   "execution_count": 24
  },
  {
   "metadata": {
    "ExecuteTime": {
     "end_time": "2025-08-05T21:32:06.223361Z",
     "start_time": "2025-08-05T21:32:06.174732Z"
    }
   },
   "cell_type": "code",
   "source": [
    "# Save full model\n",
    "complete_model_path = \"../model/dermai_model_v3.pt\"\n",
    "torch.save(model, complete_model_path)\n",
    "print(f\"\\n📦 Final model saved to {complete_model_path}\")"
   ],
   "id": "67ed82df019f14f9",
   "outputs": [
    {
     "name": "stdout",
     "output_type": "stream",
     "text": [
      "\n",
      "📦 Final model saved to ../model/dermai_model_v3.pt\n"
     ]
    }
   ],
   "execution_count": 25
  },
  {
   "metadata": {
    "ExecuteTime": {
     "end_time": "2025-08-05T21:32:06.230280Z",
     "start_time": "2025-08-05T21:32:06.225372Z"
    }
   },
   "cell_type": "code",
   "source": [
    "# === Evaluation ===\n",
    "def evaluate_model(model, dataloader):\n",
    "    model.eval()\n",
    "    correct = 0\n",
    "    total = 0\n",
    "    with torch.no_grad():\n",
    "        for inputs, labels in dataloader:\n",
    "            inputs, labels = inputs.to(device), labels.to(device)\n",
    "            outputs = model(inputs)\n",
    "            _, preds = torch.max(outputs, 1)\n",
    "            correct += torch.sum(preds == labels).item()\n",
    "            total += labels.size(0)\n",
    "    print(f\"\\n🧪 Test Accuracy: {100 * correct / total:.2f}%\")"
   ],
   "id": "2ea98ef101de3b43",
   "outputs": [],
   "execution_count": 26
  },
  {
   "metadata": {
    "ExecuteTime": {
     "end_time": "2025-08-05T21:33:36.306750Z",
     "start_time": "2025-08-05T21:32:06.231288Z"
    }
   },
   "cell_type": "code",
   "source": "evaluate_model(model, dataloaders[\"test\"])",
   "id": "b7ef5391a1e11e73",
   "outputs": [
    {
     "name": "stdout",
     "output_type": "stream",
     "text": [
      "\n",
      "🧪 Test Accuracy: 75.99%\n"
     ]
    }
   ],
   "execution_count": 27
  },
  {
   "metadata": {
    "ExecuteTime": {
     "end_time": "2025-08-05T21:33:36.542844Z",
     "start_time": "2025-08-05T21:33:36.306750Z"
    }
   },
   "cell_type": "code",
   "source": [
    "# Plot loss curves\n",
    "plt.figure(figsize=(10, 5))\n",
    "plt.plot(range(1, len(train_loss_hist) + 1), train_loss_hist,label=\"Training Loss\")\n",
    "plt.plot(range(1, len(val_loss_hist) + 1), val_loss_hist,label=\"Validation Loss\")\n",
    "plt.xlabel(\"Epoch\")\n",
    "plt.ylabel(\"Loss\")\n",
    "plt.title(\"Training and Validation Loss\")\n",
    "plt.legend()\n",
    "plt.savefig(\"loss_curve_v3.png\")\n",
    "plt.show()\n"
   ],
   "id": "c765b4cc2577c19",
   "outputs": [
    {
     "data": {
      "text/plain": [
       "<Figure size 1000x500 with 1 Axes>"
      ],
      "image/png": "[encoded data removed]"
     },
     "metadata": {},
     "output_type": "display_data"
    }
   ],
   "execution_count": 28
  },
  {
   "metadata": {
    "ExecuteTime": {
     "end_time": "2025-08-05T21:33:36.702813Z",
     "start_time": "2025-08-05T21:33:36.542844Z"
    }
   },
   "cell_type": "code",
   "source": [
    "# Plot loss curves\n",
    "plt.figure(figsize=(10, 5))\n",
    "plt.plot(range(1, len(train_acc_hist) + 1), train_acc_hist,label=\"Training Accuracy\")\n",
    "plt.plot(range(1, len(val_acc_hist) + 1), val_acc_hist,label=\"Validation Accuracy\")\n",
    "plt.xlabel(\"Epoch\")\n",
    "plt.ylabel(\"accuracy\")\n",
    "plt.title(\"Training and Validation Accuracy\")\n",
    "plt.legend()\n",
    "plt.savefig(\"accuracy_curve_v3.png\")\n",
    "plt.show()\n",
    "\n",
    "writer.close()"
   ],
   "id": "df69f5c9d901317f",
   "outputs": [
    {
     "data": {
      "text/plain": [
       "<Figure size 1000x500 with 1 Axes>"
      ],
      "image/png": "[encoded data removed]"
     },
     "metadata": {},
     "output_type": "display_data"
    }
   ],
   "execution_count": 29
  }
 ],
 "metadata": {
  "kernelspec": {
   "display_name": "Python 3",
   "language": "python",
   "name": "python3"
  },
  "language_info": {
   "codemirror_mode": {
    "name": "ipython",
    "version": 2
   },
   "file_extension": ".py",
   "mimetype": "text/x-python",
   "name": "python",
   "nbconvert_exporter": "python",
   "pygments_lexer": "ipython2",
   "version": "2.7.6"
  }
 },
 "nbformat": 4,
 "nbformat_minor": 5
}
