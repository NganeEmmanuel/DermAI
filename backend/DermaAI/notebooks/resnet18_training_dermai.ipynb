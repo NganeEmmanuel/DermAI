{
 "cells": [
  {
   "cell_type": "code",
   "id": "initial_id",
   "metadata": {
    "collapsed": true,
    "ExecuteTime": {
     "end_time": "2025-08-02T17:57:53.413443Z",
     "start_time": "2025-08-02T17:57:49.233408Z"
    }
   },
   "source": [
    "# resnet18_training.py\n",
    "\n",
    "import os\n",
    "import torch\n",
    "import torch.nn as nn\n",
    "import torch.optim as optim\n",
    "from torchvision import models, datasets, transforms\n",
    "from torchvision.models import ResNet18_Weights\n",
    "from torch.utils.data import DataLoader\n",
    "from torch.utils.tensorboard import SummaryWriter\n",
    "from torch.optim.lr_scheduler import ReduceLROnPlateau\n",
    "from tqdm import tqdm\n",
    "import matplotlib.pyplot as plt\n",
    "from sklearn.utils.class_weight import compute_class_weight\n",
    "import numpy as np"
   ],
   "outputs": [],
   "execution_count": 1
  },
  {
   "metadata": {
    "ExecuteTime": {
     "end_time": "2025-08-02T17:57:53.417265Z",
     "start_time": "2025-08-02T17:57:53.413443Z"
    }
   },
   "cell_type": "code",
   "source": "device = torch.device(\"cuda\" if torch.cuda.is_available() else \"cpu\")",
   "id": "ca80677d18700996",
   "outputs": [],
   "execution_count": 2
  },
  {
   "metadata": {
    "ExecuteTime": {
     "end_time": "2025-08-02T17:57:53.423030Z",
     "start_time": "2025-08-02T17:57:53.419276Z"
    }
   },
   "cell_type": "code",
   "source": [
    "# Paths\n",
    "DATASET_DIR = \"../data/processed\"\n",
    "train_dir = os.path.join(DATASET_DIR, \"train\")\n",
    "val_dir = os.path.join(DATASET_DIR, \"val\")\n",
    "test_dir = os.path.join(DATASET_DIR, \"test\")"
   ],
   "id": "9c87c5de36b69f3d",
   "outputs": [],
   "execution_count": 3
  },
  {
   "metadata": {
    "ExecuteTime": {
     "end_time": "2025-08-02T17:57:53.429104Z",
     "start_time": "2025-08-02T17:57:53.424038Z"
    }
   },
   "cell_type": "code",
   "source": [
    "# Transforms for ResNet18\n",
    "transform = transforms.Compose([\n",
    "    transforms.RandomHorizontalFlip(),\n",
    "    transforms.RandomRotation(10),\n",
    "    transforms.ColorJitter(brightness=0.2, contrast=0.2, saturation=0.2),\n",
    "    transforms.Resize((224, 224)),\n",
    "    transforms.ToTensor(),\n",
    "    transforms.Normalize(mean=[0.485, 0.456, 0.406],\n",
    "                         std=[0.229, 0.224, 0.225])\n",
    "])"
   ],
   "id": "d7087b883f6aeb14",
   "outputs": [],
   "execution_count": 4
  },
  {
   "metadata": {
    "ExecuteTime": {
     "end_time": "2025-08-02T17:57:53.560254Z",
     "start_time": "2025-08-02T17:57:53.430110Z"
    }
   },
   "cell_type": "code",
   "source": [
    "# Load datasets\n",
    "datasets_dict = {\n",
    "    'train': datasets.ImageFolder(train_dir, transform=transform),\n",
    "    'val': datasets.ImageFolder(val_dir, transform=transform),\n",
    "    'test': datasets.ImageFolder(test_dir, transform=transform)\n",
    "}"
   ],
   "id": "ed2caf28a048",
   "outputs": [],
   "execution_count": 5
  },
  {
   "metadata": {
    "ExecuteTime": {
     "end_time": "2025-08-02T17:57:53.565217Z",
     "start_time": "2025-08-02T17:57:53.561268Z"
    }
   },
   "cell_type": "code",
   "source": [
    "# DataLoaders\n",
    "dataloaders = {\n",
    "    x: DataLoader(datasets_dict[x], batch_size=32, shuffle=(x == 'train'), num_workers=4, prefetch_factor=4)\n",
    "    for x in ['train', 'val', 'test']\n",
    "}\n",
    "\n",
    "class_names = datasets_dict['train'].classes\n",
    "num_classes = len(class_names)"
   ],
   "id": "8dde82483d965589",
   "outputs": [],
   "execution_count": 6
  },
  {
   "metadata": {
    "ExecuteTime": {
     "end_time": "2025-08-02T17:58:38.004130Z",
     "start_time": "2025-08-02T17:57:53.566228Z"
    }
   },
   "cell_type": "code",
   "source": [
    "# === NEW: Compute class weights ===\n",
    "train_labels = [label for _, label in datasets_dict['train']]\n",
    "class_weights = compute_class_weight(class_weight='balanced', classes=np.arange(num_classes), y=train_labels)\n",
    "class_weights_tensor = torch.tensor(class_weights, dtype=torch.float).to(device)"
   ],
   "id": "c06d2d664488bf19",
   "outputs": [],
   "execution_count": 7
  },
  {
   "metadata": {
    "ExecuteTime": {
     "end_time": "2025-08-02T17:58:38.224551Z",
     "start_time": "2025-08-02T17:58:38.005136Z"
    }
   },
   "cell_type": "code",
   "source": [
    "# Load pretrained ResNet18 and modify final layer\n",
    "model = models.resnet18(weights=ResNet18_Weights.DEFAULT)\n",
    "for name, param in model.named_parameters():\n",
    "    if \"layer4\" in name or \"fc\" in name:\n",
    "        param.requires_grad = True\n",
    "    else:\n",
    "        param.requires_grad = False\n",
    "# todo take this out later\n",
    "# for param in model.parameters():\n",
    "#     param.requires_grad = False  # Freeze all layers\n",
    "model.fc = nn.Linear(model.fc.in_features, num_classes)\n",
    "model = model.to(device)"
   ],
   "id": "a1d8609b4410488d",
   "outputs": [],
   "execution_count": 8
  },
  {
   "metadata": {
    "ExecuteTime": {
     "end_time": "2025-08-02T17:58:38.230088Z",
     "start_time": "2025-08-02T17:58:38.225556Z"
    }
   },
   "cell_type": "code",
   "source": [
    "# Use weighted loss\n",
    "criterion = nn.CrossEntropyLoss(weight=class_weights_tensor)\n",
    "# Get trainable parameters only\n",
    "trainable_params = filter(lambda p: p.requires_grad, model.parameters())\n",
    "optimizer = optim.Adam(trainable_params, lr=0.001)\n",
    "scheduler = ReduceLROnPlateau(optimizer, mode='min', patience=2, factor=0.5)"
   ],
   "id": "551c394ad16e32bb",
   "outputs": [],
   "execution_count": 9
  },
  {
   "metadata": {
    "ExecuteTime": {
     "end_time": "2025-08-02T17:58:38.238180Z",
     "start_time": "2025-08-02T17:58:38.233097Z"
    }
   },
   "cell_type": "code",
   "source": [
    "# TensorBoard writer\n",
    "writer = SummaryWriter(log_dir=\"runs/resnet18_experiment_2\")"
   ],
   "id": "405f0b341376d89b",
   "outputs": [],
   "execution_count": 10
  },
  {
   "metadata": {
    "ExecuteTime": {
     "end_time": "2025-08-02T17:58:38.248704Z",
     "start_time": "2025-08-02T17:58:38.239188Z"
    }
   },
   "cell_type": "code",
   "source": [
    "# Training loop\n",
    "def train_model(model, dataloaders, criterion, optimizer, num_epochs=10):\n",
    "    best_val_loss = float('inf')\n",
    "    train_loss_hist, val_loss_hist = [], []\n",
    "    train_acc_hist, val_acc_hist = [], []\n",
    "\n",
    "    for epoch in range(num_epochs):\n",
    "        print(f\"\\nEpoch {epoch+1}/{num_epochs}\")\n",
    "        print(\"-\" * 20)\n",
    "\n",
    "        for phase in ['train', 'val']:\n",
    "            if phase == 'train':\n",
    "                model.train()\n",
    "            else:\n",
    "                model.eval()\n",
    "\n",
    "            running_loss = 0.0\n",
    "            running_corrects = 0\n",
    "\n",
    "            with tqdm(dataloaders[phase], unit=\"batch\") as tepoch:\n",
    "                for i, (inputs, labels) in enumerate(tepoch):\n",
    "                    # Optional: show batch progress every 10 batches\n",
    "                    # if i % 10 == 0:  # 🔍 Debug: monitor training progress\n",
    "                    #     print(f\"[{phase.upper()}] Epoch {epoch+1} - Batch {i+1}/{len(dataloaders[phase])}\")  # REMOVE LATER\n",
    "\n",
    "                    inputs, labels = inputs.to(device), labels.to(device)\n",
    "\n",
    "                    optimizer.zero_grad()\n",
    "\n",
    "                    with torch.set_grad_enabled(phase == 'train'):\n",
    "                        outputs = model(inputs)\n",
    "                        loss = criterion(outputs, labels)\n",
    "                        _, preds = torch.max(outputs, 1)\n",
    "\n",
    "                        if phase == 'train':\n",
    "                            loss.backward()\n",
    "                            optimizer.step()\n",
    "\n",
    "                    running_loss += loss.item() * inputs.size(0)\n",
    "                    running_corrects += torch.sum(preds == labels.data)\n",
    "\n",
    "            epoch_loss = running_loss / len(datasets_dict[phase])\n",
    "            epoch_acc = running_corrects.double() / len(datasets_dict[phase])\n",
    "\n",
    "            print(f\"{phase.capitalize()} Loss: {epoch_loss:.4f} Acc: {epoch_acc:.4f}\")\n",
    "\n",
    "            writer.add_scalar(f\"Loss/{phase}\", epoch_loss, epoch)\n",
    "            writer.add_scalar(f\"Accuracy/{phase}\", epoch_acc, epoch)\n",
    "\n",
    "            if phase == 'train':\n",
    "                train_loss_hist.append(epoch_loss)\n",
    "                train_acc_hist.append(epoch_acc.item())\n",
    "            else:\n",
    "                val_loss_hist.append(epoch_loss)\n",
    "                val_acc_hist.append(epoch_acc.item())\n",
    "                scheduler.step(epoch_loss)\n",
    "\n",
    "                if epoch_loss < best_val_loss:\n",
    "                    best_val_loss = epoch_loss\n",
    "                    torch.save(model.state_dict(), \"../model/dermai_model.pth\")\n",
    "\n",
    "    print(\"\\nTraining complete. Best validation loss: {:.4f}\".format(best_val_loss))\n",
    "    return train_loss_hist, val_loss_hist, train_acc_hist, val_acc_hist\n"
   ],
   "id": "e3cd59f5ca40ed62",
   "outputs": [],
   "execution_count": 11
  },
  {
   "metadata": {
    "ExecuteTime": {
     "end_time": "2025-08-02T19:36:31.881803Z",
     "start_time": "2025-08-02T17:58:38.249714Z"
    }
   },
   "cell_type": "code",
   "source": [
    "# Train\n",
    "train_loss_hist, val_loss_hist, train_acc_hist, val_acc_hist = train_model(model, dataloaders, criterion, optimizer, num_epochs=10)"
   ],
   "id": "f6315d87c34f58f0",
   "outputs": [
    {
     "name": "stdout",
     "output_type": "stream",
     "text": [
      "\n",
      "Epoch 1/10\n",
      "--------------------\n"
     ]
    },
    {
     "name": "stderr",
     "output_type": "stream",
     "text": [
      "100%|██████████| 489/489 [08:32<00:00,  1.05s/batch]\n"
     ]
    },
    {
     "name": "stdout",
     "output_type": "stream",
     "text": [
      "Train Loss: 1.6224 Acc: 0.4527\n"
     ]
    },
    {
     "name": "stderr",
     "output_type": "stream",
     "text": [
      "100%|██████████| 105/105 [01:25<00:00,  1.22batch/s]\n"
     ]
    },
    {
     "name": "stdout",
     "output_type": "stream",
     "text": [
      "Val Loss: 1.3176 Acc: 0.5397\n",
      "\n",
      "Epoch 2/10\n",
      "--------------------\n"
     ]
    },
    {
     "name": "stderr",
     "output_type": "stream",
     "text": [
      "100%|██████████| 489/489 [08:18<00:00,  1.02s/batch]\n"
     ]
    },
    {
     "name": "stdout",
     "output_type": "stream",
     "text": [
      "Train Loss: 1.0389 Acc: 0.5770\n"
     ]
    },
    {
     "name": "stderr",
     "output_type": "stream",
     "text": [
      "100%|██████████| 105/105 [01:27<00:00,  1.21batch/s]\n"
     ]
    },
    {
     "name": "stdout",
     "output_type": "stream",
     "text": [
      "Val Loss: 1.1070 Acc: 0.6179\n",
      "\n",
      "Epoch 3/10\n",
      "--------------------\n"
     ]
    },
    {
     "name": "stderr",
     "output_type": "stream",
     "text": [
      "100%|██████████| 489/489 [08:18<00:00,  1.02s/batch]\n"
     ]
    },
    {
     "name": "stdout",
     "output_type": "stream",
     "text": [
      "Train Loss: 0.9015 Acc: 0.6309\n"
     ]
    },
    {
     "name": "stderr",
     "output_type": "stream",
     "text": [
      "100%|██████████| 105/105 [01:24<00:00,  1.24batch/s]\n"
     ]
    },
    {
     "name": "stdout",
     "output_type": "stream",
     "text": [
      "Val Loss: 1.1872 Acc: 0.6128\n",
      "\n",
      "Epoch 4/10\n",
      "--------------------\n"
     ]
    },
    {
     "name": "stderr",
     "output_type": "stream",
     "text": [
      "100%|██████████| 489/489 [08:19<00:00,  1.02s/batch]\n"
     ]
    },
    {
     "name": "stdout",
     "output_type": "stream",
     "text": [
      "Train Loss: 0.7481 Acc: 0.6780\n"
     ]
    },
    {
     "name": "stderr",
     "output_type": "stream",
     "text": [
      "100%|██████████| 105/105 [01:26<00:00,  1.22batch/s]\n"
     ]
    },
    {
     "name": "stdout",
     "output_type": "stream",
     "text": [
      "Val Loss: 1.0971 Acc: 0.6197\n",
      "\n",
      "Epoch 5/10\n",
      "--------------------\n"
     ]
    },
    {
     "name": "stderr",
     "output_type": "stream",
     "text": [
      "100%|██████████| 489/489 [08:30<00:00,  1.04s/batch]\n"
     ]
    },
    {
     "name": "stdout",
     "output_type": "stream",
     "text": [
      "Train Loss: 0.6607 Acc: 0.7074\n"
     ]
    },
    {
     "name": "stderr",
     "output_type": "stream",
     "text": [
      "100%|██████████| 105/105 [01:26<00:00,  1.22batch/s]\n"
     ]
    },
    {
     "name": "stdout",
     "output_type": "stream",
     "text": [
      "Val Loss: 0.9667 Acc: 0.6758\n",
      "\n",
      "Epoch 6/10\n",
      "--------------------\n"
     ]
    },
    {
     "name": "stderr",
     "output_type": "stream",
     "text": [
      "100%|██████████| 489/489 [08:18<00:00,  1.02s/batch]\n"
     ]
    },
    {
     "name": "stdout",
     "output_type": "stream",
     "text": [
      "Train Loss: 0.5895 Acc: 0.7361\n"
     ]
    },
    {
     "name": "stderr",
     "output_type": "stream",
     "text": [
      "100%|██████████| 105/105 [01:25<00:00,  1.23batch/s]\n"
     ]
    },
    {
     "name": "stdout",
     "output_type": "stream",
     "text": [
      "Val Loss: 0.8875 Acc: 0.7111\n",
      "\n",
      "Epoch 7/10\n",
      "--------------------\n"
     ]
    },
    {
     "name": "stderr",
     "output_type": "stream",
     "text": [
      "100%|██████████| 489/489 [08:24<00:00,  1.03s/batch]\n"
     ]
    },
    {
     "name": "stdout",
     "output_type": "stream",
     "text": [
      "Train Loss: 0.5220 Acc: 0.7544\n"
     ]
    },
    {
     "name": "stderr",
     "output_type": "stream",
     "text": [
      "100%|██████████| 105/105 [01:26<00:00,  1.22batch/s]\n"
     ]
    },
    {
     "name": "stdout",
     "output_type": "stream",
     "text": [
      "Val Loss: 0.8879 Acc: 0.7078\n",
      "\n",
      "Epoch 8/10\n",
      "--------------------\n"
     ]
    },
    {
     "name": "stderr",
     "output_type": "stream",
     "text": [
      "100%|██████████| 489/489 [08:22<00:00,  1.03s/batch]\n"
     ]
    },
    {
     "name": "stdout",
     "output_type": "stream",
     "text": [
      "Train Loss: 0.4509 Acc: 0.7838\n"
     ]
    },
    {
     "name": "stderr",
     "output_type": "stream",
     "text": [
      "100%|██████████| 105/105 [01:26<00:00,  1.21batch/s]\n"
     ]
    },
    {
     "name": "stdout",
     "output_type": "stream",
     "text": [
      "Val Loss: 0.9289 Acc: 0.7126\n",
      "\n",
      "Epoch 9/10\n",
      "--------------------\n"
     ]
    },
    {
     "name": "stderr",
     "output_type": "stream",
     "text": [
      "100%|██████████| 489/489 [08:16<00:00,  1.02s/batch]\n"
     ]
    },
    {
     "name": "stdout",
     "output_type": "stream",
     "text": [
      "Train Loss: 0.4255 Acc: 0.7934\n"
     ]
    },
    {
     "name": "stderr",
     "output_type": "stream",
     "text": [
      "100%|██████████| 105/105 [01:24<00:00,  1.25batch/s]\n"
     ]
    },
    {
     "name": "stdout",
     "output_type": "stream",
     "text": [
      "Val Loss: 0.7892 Acc: 0.7468\n",
      "\n",
      "Epoch 10/10\n",
      "--------------------\n"
     ]
    },
    {
     "name": "stderr",
     "output_type": "stream",
     "text": [
      "100%|██████████| 489/489 [08:13<00:00,  1.01s/batch]\n"
     ]
    },
    {
     "name": "stdout",
     "output_type": "stream",
     "text": [
      "Train Loss: 0.3600 Acc: 0.8243\n"
     ]
    },
    {
     "name": "stderr",
     "output_type": "stream",
     "text": [
      "100%|██████████| 105/105 [01:24<00:00,  1.24batch/s]"
     ]
    },
    {
     "name": "stdout",
     "output_type": "stream",
     "text": [
      "Val Loss: 1.1481 Acc: 0.6800\n",
      "\n",
      "Training complete. Best validation loss: 0.7892\n"
     ]
    },
    {
     "name": "stderr",
     "output_type": "stream",
     "text": [
      "\n"
     ]
    }
   ],
   "execution_count": 12
  },
  {
   "metadata": {
    "ExecuteTime": {
     "end_time": "2025-08-02T19:36:31.924304Z",
     "start_time": "2025-08-02T19:36:31.882813Z"
    }
   },
   "cell_type": "code",
   "source": [
    "# Save complete model for inference\n",
    "complete_model_path = \"../model/dermai_model.pt\"\n",
    "torch.save(model, complete_model_path)\n",
    "print(f\"\\nFinal model saved to {complete_model_path}\")\n"
   ],
   "id": "67ed82df019f14f9",
   "outputs": [
    {
     "name": "stdout",
     "output_type": "stream",
     "text": [
      "\n",
      "Final model saved to ../model/dermai_model.pt\n"
     ]
    }
   ],
   "execution_count": 13
  },
  {
   "metadata": {
    "ExecuteTime": {
     "end_time": "2025-08-02T19:36:31.929443Z",
     "start_time": "2025-08-02T19:36:31.925330Z"
    }
   },
   "cell_type": "code",
   "source": [
    "# Evaluation\n",
    "def evaluate_model(model, dataloader):\n",
    "    model.eval()\n",
    "    correct = 0\n",
    "    total = 0\n",
    "    with torch.no_grad():\n",
    "        for inputs, labels in dataloader:\n",
    "            inputs, labels = inputs.to(device), labels.to(device)\n",
    "            outputs = model(inputs)\n",
    "            _, preds = torch.max(outputs, 1)\n",
    "            correct += torch.sum(preds == labels).item()\n",
    "            total += labels.size(0)\n",
    "    print(f\"\\nTest Accuracy: {100 * correct / total:.2f}%\")\n"
   ],
   "id": "2ea98ef101de3b43",
   "outputs": [],
   "execution_count": 14
  },
  {
   "metadata": {
    "ExecuteTime": {
     "end_time": "2025-08-02T19:37:56.985559Z",
     "start_time": "2025-08-02T19:36:31.930450Z"
    }
   },
   "cell_type": "code",
   "source": "evaluate_model(model, dataloaders[\"test\"])",
   "id": "b7ef5391a1e11e73",
   "outputs": [
    {
     "name": "stdout",
     "output_type": "stream",
     "text": [
      "\n",
      "Test Accuracy: 69.05%\n"
     ]
    }
   ],
   "execution_count": 15
  },
  {
   "metadata": {
    "ExecuteTime": {
     "end_time": "2025-08-02T19:37:57.197447Z",
     "start_time": "2025-08-02T19:37:56.986565Z"
    }
   },
   "cell_type": "code",
   "source": [
    "# Plot loss curves\n",
    "plt.figure(figsize=(10, 5))\n",
    "plt.plot(range(1, len(train_loss_hist) + 1), train_loss_hist,label=\"Training Loss\")\n",
    "plt.plot(range(1, len(val_loss_hist) + 1), val_loss_hist,label=\"Validation Loss\")\n",
    "plt.xlabel(\"Epoch\")\n",
    "plt.ylabel(\"Loss\")\n",
    "plt.title(\"Training and Validation Loss\")\n",
    "plt.legend()\n",
    "plt.savefig(\"loss_curve.png\")\n",
    "plt.show()\n"
   ],
   "id": "c765b4cc2577c19",
   "outputs": [
    {
     "data": {
      "text/plain": [
       "<Figure size 1000x500 with 1 Axes>"
      ],
      "image/png": "[encoded data removed]"
     },
     "metadata": {},
     "output_type": "display_data"
    }
   ],
   "execution_count": 16
  },
  {
   "metadata": {
    "ExecuteTime": {
     "end_time": "2025-08-02T19:37:57.406996Z",
     "start_time": "2025-08-02T19:37:57.198454Z"
    }
   },
   "cell_type": "code",
   "source": [
    "# Plot loss curves\n",
    "plt.figure(figsize=(10, 5))\n",
    "plt.plot(range(1, len(train_acc_hist) + 1), train_acc_hist,label=\"Training Accuracy\")\n",
    "plt.plot(range(1, len(val_acc_hist) + 1), val_acc_hist,label=\"Validation Accuracy\")\n",
    "plt.xlabel(\"Epoch\")\n",
    "plt.ylabel(\"accuracy\")\n",
    "plt.title(\"Training and Validation Accuracy\")\n",
    "plt.legend()\n",
    "plt.savefig(\"accuracy_curve.png\")\n",
    "plt.show()\n",
    "\n",
    "writer.close()"
   ],
   "id": "df69f5c9d901317f",
   "outputs": [
    {
     "data": {
      "text/plain": [
       "<Figure size 1000x500 with 1 Axes>"
      ],
      "image/png": "[encoded data removed]"
     },
     "metadata": {},
     "output_type": "display_data"
    }
   ],
   "execution_count": 17
  }
 ],
 "metadata": {
  "kernelspec": {
   "display_name": "Python 3",
   "language": "python",
   "name": "python3"
  },
  "language_info": {
   "codemirror_mode": {
    "name": "ipython",
    "version": 2
   },
   "file_extension": ".py",
   "mimetype": "text/x-python",
   "name": "python",
   "nbconvert_exporter": "python",
   "pygments_lexer": "ipython2",
   "version": "2.7.6"
  }
 },
 "nbformat": 4,
 "nbformat_minor": 5
}
